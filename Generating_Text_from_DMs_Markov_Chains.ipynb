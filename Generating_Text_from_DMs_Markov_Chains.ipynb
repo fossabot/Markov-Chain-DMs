{
  "nbformat": 4,
  "nbformat_minor": 0,
  "metadata": {
    "colab": {
      "name": "Generating Text from DMs - Markov Chains.ipynb",
      "provenance": [],
      "private_outputs": true,
      "collapsed_sections": [],
      "toc_visible": true,
      "include_colab_link": true
    },
    "kernelspec": {
      "name": "python3",
      "display_name": "Python 3"
    }
  },
  "cells": [
    {
      "cell_type": "markdown",
      "metadata": {
        "id": "view-in-github",
        "colab_type": "text"
      },
      "source": [
        "<a href=\"https://colab.research.google.com/github/hyperhitesh/Markov-Chain-DMs/blob/master/Generating_Text_from_DMs_Markov_Chains.ipynb\" target=\"_parent\"><img src=\"https://colab.research.google.com/assets/colab-badge.svg\" alt=\"Open In Colab\"/></a>"
      ]
    },
    {
      "cell_type": "markdown",
      "metadata": {
        "id": "wGdT3lOEdEZn",
        "colab_type": "text"
      },
      "source": [
        "# Generating Text from your DMs using Markov Chains\n",
        "Hello there, in this Colab notebook we explore creating new text from a dataset of your old Instagram messages. Since the data we have is extremely small, machine learning approaches do not work well. Therefore we use Markov Chains, which isn't exactly machine learning, yet provide much better outputs for our particular case. For a great visual explanation of how they work, check out [this site](http://setosa.io/ev/markov-chains/)."
      ]
    },
    {
      "cell_type": "markdown",
      "metadata": {
        "id": "7x5vOiOzf-9u",
        "colab_type": "text"
      },
      "source": [
        "# Getting Data"
      ]
    },
    {
      "cell_type": "markdown",
      "metadata": {
        "id": "tGNE0VQkgF7O",
        "colab_type": "text"
      },
      "source": [
        "To get all your chats as a single file, you need to head on to Instagram and [request a download of your data](https://www.instagram.com/download/request/). Once you've initiated a request, you'll have to wait a bit. Instagram usually takes about half-an-hour to send a link to your email, but it may take longer."
      ]
    },
    {
      "cell_type": "markdown",
      "metadata": {
        "id": "1ZXr9OU7hDWR",
        "colab_type": "text"
      },
      "source": [
        "Once you've downloaded the zip file, unzip it. Inside there will be a file called messages.json. When you run the code cell below, a box will open. Select the messages.json file and upload it to this Colab environment. Note that files get deleted at the end of runtime, so nobody else will have access to your messages."
      ]
    },
    {
      "cell_type": "code",
      "metadata": {
        "id": "6Q5GT4kGZrOw",
        "colab_type": "code",
        "colab": {}
      },
      "source": [
        "from google.colab import files\n",
        "files.upload()"
      ],
      "execution_count": 0,
      "outputs": []
    },
    {
      "cell_type": "markdown",
      "metadata": {
        "id": "ZL0jnUbBkrU8",
        "colab_type": "text"
      },
      "source": [
        "Run the code below. A box will open up, enter your Instagram username, and press the Enter key on your keyboard."
      ]
    },
    {
      "cell_type": "code",
      "metadata": {
        "id": "oIMnhXKSjau7",
        "colab_type": "code",
        "colab": {}
      },
      "source": [
        "username = input()"
      ],
      "execution_count": 0,
      "outputs": []
    },
    {
      "cell_type": "markdown",
      "metadata": {
        "id": "4FZVYDVmlSDF",
        "colab_type": "text"
      },
      "source": [
        "Run the code below to extract the messages sent by you from the messages.json file and to save it as rawtxt.txt"
      ]
    },
    {
      "cell_type": "code",
      "metadata": {
        "id": "WZLCGdhTkjEt",
        "colab_type": "code",
        "colab": {}
      },
      "source": [
        "import json\n",
        "\n",
        "ndata = []\n",
        "with open('messages.json', encoding='utf-8') as mes:\n",
        "    data = json.load(mes)\n",
        "    for a in data:\n",
        "        mes = a['conversation']\n",
        "        for x in mes:\n",
        "            if (x['sender']==username) and ('text' in x):\n",
        "                ndata.append(x['text'])\n",
        "\n",
        "with open('rawtxt.txt', 'w', encoding='utf-8') as rawtxt:\n",
        "    for b in ndata:\n",
        "        rawtxt.write(str(b)+\"\\n\")"
      ],
      "execution_count": 0,
      "outputs": []
    },
    {
      "cell_type": "markdown",
      "metadata": {
        "id": "Gv7dKudnl3Ws",
        "colab_type": "text"
      },
      "source": [
        "# Using Markov Chains"
      ]
    },
    {
      "cell_type": "markdown",
      "metadata": {
        "id": "oyr_oYIKl9yO",
        "colab_type": "text"
      },
      "source": [
        "First, we import the [Markovify](https://github.com/jsvine/markovify) package, written by [jsvine](https://github.com/jsvine)."
      ]
    },
    {
      "cell_type": "code",
      "metadata": {
        "id": "C9DyfZcUmg_b",
        "colab_type": "code",
        "colab": {}
      },
      "source": [
        "! pip install markovify\n",
        "import markovify"
      ],
      "execution_count": 0,
      "outputs": []
    },
    {
      "cell_type": "markdown",
      "metadata": {
        "id": "j_vb9EZX_2xY",
        "colab_type": "text"
      },
      "source": [
        "In the below cell, we open the rawtxt.txt and create a text_model. Try playing around with the value of state_size. The more data you have, the higher the value of state_size that would work. To be on the safe side, we've kept it as 2 for now. You could try 3 or even 4."
      ]
    },
    {
      "cell_type": "code",
      "metadata": {
        "id": "baLFiLrL_tHV",
        "colab_type": "code",
        "colab": {}
      },
      "source": [
        "with open('rawtxt.txt', encoding='utf-8') as file:\n",
        "    text = file.read()\n",
        "\n",
        "text_model = markovify.NewlineText(text, state_size=2)"
      ],
      "execution_count": 0,
      "outputs": []
    },
    {
      "cell_type": "markdown",
      "metadata": {
        "id": "lqhkUx_9mmFp",
        "colab_type": "text"
      },
      "source": [
        "Running the below cell will give you five different generated texts. You can run the cell again to get new ones."
      ]
    },
    {
      "cell_type": "code",
      "metadata": {
        "id": "1aV0_NXZlmmI",
        "colab_type": "code",
        "colab": {}
      },
      "source": [
        "for i in range(5):\n",
        "    print(text_model.make_sentence())\n"
      ],
      "execution_count": 0,
      "outputs": []
    },
    {
      "cell_type": "markdown",
      "metadata": {
        "id": "byXdfQFJAgUT",
        "colab_type": "text"
      },
      "source": [
        "\n",
        " \n",
        "[Hitesh Nair](https://hiteshnair.com/)"
      ]
    }
  ]
}